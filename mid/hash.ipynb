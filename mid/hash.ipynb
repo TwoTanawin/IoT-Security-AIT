{
 "cells": [
  {
   "cell_type": "code",
   "execution_count": 22,
   "metadata": {},
   "outputs": [],
   "source": [
    "import hashlib\n",
    "def calculate_hash(filename):\n",
    "    \"\"\"Calculate the hash of a file.\"\"\"\n",
    "    sha256_hash = hashlib.sha256()\n",
    "    with open(filename, \"rb\") as file:\n",
    "        while True:\n",
    "            chunk = file.read(8192)\n",
    "            if not chunk:\n",
    "                break\n",
    "            sha256_hash.update(chunk)\n",
    "    return sha256_hash.hexdigest()"
   ]
  },
  {
   "cell_type": "code",
   "execution_count": 23,
   "metadata": {},
   "outputs": [
    {
     "name": "stdout",
     "output_type": "stream",
     "text": [
      "hash cha256\n",
      "bef0f4f404b18dae538723cffaecacf42b455160ed4b0e3bdc9a625063093fac\n"
     ]
    }
   ],
   "source": [
    "current_version_hash_exam = calculate_hash('/Users/twomac/Documents/Two/AIT/ISE/Master 2/IoT security/computing/mid/MID_term_part2_Lab.docx')\n",
    "print(\"hash cha256\")\n",
    "print(current_version_hash_exam)"
   ]
  },
  {
   "cell_type": "code",
   "execution_count": 24,
   "metadata": {},
   "outputs": [
    {
     "name": "stdout",
     "output_type": "stream",
     "text": [
      "hash cha256\n",
      "2b57dca7fa2c3bd0e942060b546028d961bfb698fb12ed8b2947b13f88d170c8\n"
     ]
    }
   ],
   "source": [
    "current_version_hash_wifi = calculate_hash('WPA_pcap/wifi_hack.pcap')\n",
    "print(\"hash cha256\")\n",
    "print(current_version_hash_wifi)"
   ]
  },
  {
   "cell_type": "code",
   "execution_count": 25,
   "metadata": {},
   "outputs": [
    {
     "name": "stdout",
     "output_type": "stream",
     "text": [
      "hash cha256\n",
      "524f6afba0e1b6a34d449d4a3302b6e690ec29addb45d2055fef1b6f96c2c404\n"
     ]
    }
   ],
   "source": [
    "current_version_hash_http = calculate_hash('WPA_pcap/http_pcap.pcap')\n",
    "print(\"hash cha256\")\n",
    "print(current_version_hash_http)"
   ]
  }
 ],
 "metadata": {
  "kernelspec": {
   "display_name": "my_iot",
   "language": "python",
   "name": "python3"
  },
  "language_info": {
   "codemirror_mode": {
    "name": "ipython",
    "version": 3
   },
   "file_extension": ".py",
   "mimetype": "text/x-python",
   "name": "python",
   "nbconvert_exporter": "python",
   "pygments_lexer": "ipython3",
   "version": "3.10.13"
  }
 },
 "nbformat": 4,
 "nbformat_minor": 2
}
